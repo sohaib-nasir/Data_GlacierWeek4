{
 "cells": [
  {
   "cell_type": "code",
   "execution_count": null,
   "metadata": {},
   "outputs": [],
   "source": [
    "import numpy as np\n",
    "import requests\n",
    "import json\n",
    "\n",
    "# Define the URL of your Flask API\n",
    "url = \"http://127.0.0.1:5000/predict\"  # Replace with the correct URL if hosted elsewhere\n",
    "\n",
    "# Define the input data as a dictionary (replace with your actual input data)\n",
    "# input_data = {\n",
    "#     \"feature1\": 1.0,\n",
    "#     \"feature2\": 2.0\n",
    "# }\n",
    "\n",
    "input_data=[30, 60, 58,  2,  8, 10,  7, 32]\n",
    "\n",
    "input_data=np.array(input_data)\n",
    "\n",
    "# Send a POST request with JSON data\n",
    "response = requests.post(url, json=input_data)\n",
    "\n",
    "# Check the response status code\n",
    "if response.status_code == 200:\n",
    "    result = response.json()\n",
    "    prediction = result['prediction']\n",
    "    print(f\"Prediction: {prediction}\")\n",
    "else:\n",
    "    print(f\"Error: {response.status_code}\")\n"
   ]
  }
 ],
 "metadata": {
  "language_info": {
   "name": "python"
  },
  "orig_nbformat": 4
 },
 "nbformat": 4,
 "nbformat_minor": 2
}
